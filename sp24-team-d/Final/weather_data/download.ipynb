{
 "cells": [
  {
   "cell_type": "code",
   "execution_count": 1,
   "metadata": {},
   "outputs": [],
   "source": [
    "from wetterdienst import Wetterdienst\n"
   ]
  },
  {
   "cell_type": "code",
   "execution_count": 2,
   "metadata": {},
   "outputs": [
    {
     "data": {
      "text/plain": [
       "{'DWD': ['OBSERVATION', 'MOSMIX', 'DMO', 'ROAD', 'RADAR'],\n",
       " 'ECCC': ['OBSERVATION'],\n",
       " 'IMGW': ['HYDROLOGY', 'METEOROLOGY'],\n",
       " 'NOAA': ['GHCN'],\n",
       " 'WSV': ['PEGEL'],\n",
       " 'EA': ['HYDROLOGY'],\n",
       " 'NWS': ['OBSERVATION'],\n",
       " 'EAUFRANCE': ['HUBEAU'],\n",
       " 'GEOSPHERE': ['OBSERVATION']}"
      ]
     },
     "execution_count": 2,
     "metadata": {},
     "output_type": "execute_result"
    }
   ],
   "source": [
    "Wetterdienst.discover()"
   ]
  },
  {
   "cell_type": "code",
   "execution_count": 3,
   "metadata": {},
   "outputs": [],
   "source": [
    "API = Wetterdienst(\"noaa\", \"ghcn\")"
   ]
  },
  {
   "cell_type": "code",
   "execution_count": 11,
   "metadata": {},
   "outputs": [],
   "source": [
    "from wetterdienst.provider.noaa.ghcn import NoaaGhcnRequest, NoaaGhcnParameter, NoaaGhcnResolution\n",
    "\n",
    "# request = DwdObservationRequest(\n",
    "#     parameter=DwdObservationDataset.PRECIPITATION_MORE,\n",
    "#     resolution=DwdObservationResolution.DAILY,\n",
    "#     period=DwdObservationPeriod.HISTORICAL\n",
    "# )\n",
    "\n",
    "request = NoaaGhcnRequest(\n",
    "    # parameter=NoaaGhcnParameter.DAILY,\n",
    "    # resolution=NoaaGhcnResolution.DAILY,\n",
    "    parameter=NoaaGhcnParameter.DAILY.WIND_SPEED,\n",
    "    resolution=NoaaGhcnResolution.DAILY,\n",
    "    start_date=\"2021-01-01\",\n",
    "    end_date=\"2021-01-31\",\n",
    ")\n"
   ]
  },
  {
   "cell_type": "code",
   "execution_count": 16,
   "metadata": {},
   "outputs": [
    {
     "data": {
      "text/html": [
       "<div><style>\n",
       ".dataframe > thead > tr,\n",
       ".dataframe > tbody > tr {\n",
       "  text-align: right;\n",
       "  white-space: pre-wrap;\n",
       "}\n",
       "</style>\n",
       "<small>shape: (100, 8)</small><table border=\"1\" class=\"dataframe\"><thead><tr><th>station_id</th><th>start_date</th><th>end_date</th><th>latitude</th><th>longitude</th><th>height</th><th>name</th><th>state</th></tr><tr><td>str</td><td>datetime[μs, UTC]</td><td>datetime[μs, UTC]</td><td>f64</td><td>f64</td><td>f64</td><td>str</td><td>str</td></tr></thead><tbody><tr><td>&quot;ACW00011604&quot;</td><td>1949-01-01 00:00:00 UTC</td><td>1949-12-31 00:00:00 UTC</td><td>17.1167</td><td>-61.7833</td><td>10.1</td><td>&quot;ST JOHNS COOLI…</td><td>null</td></tr><tr><td>&quot;ACW00011647&quot;</td><td>1957-01-01 00:00:00 UTC</td><td>1970-12-31 00:00:00 UTC</td><td>17.1333</td><td>-61.7833</td><td>19.2</td><td>&quot;ST JOHNS&quot;</td><td>null</td></tr><tr><td>&quot;AE000041196&quot;</td><td>1944-01-01 00:00:00 UTC</td><td>2024-12-31 00:00:00 UTC</td><td>25.333</td><td>55.517</td><td>34.0</td><td>&quot;SHARJAH INTER.…</td><td>null</td></tr><tr><td>&quot;AEM00041194&quot;</td><td>1983-01-01 00:00:00 UTC</td><td>2024-12-31 00:00:00 UTC</td><td>25.255</td><td>55.364</td><td>10.4</td><td>&quot;DUBAI INTL&quot;</td><td>null</td></tr><tr><td>&quot;AEM00041217&quot;</td><td>1983-01-01 00:00:00 UTC</td><td>2024-12-31 00:00:00 UTC</td><td>24.433</td><td>54.651</td><td>26.8</td><td>&quot;ABU DHABI INTL…</td><td>null</td></tr><tr><td>&hellip;</td><td>&hellip;</td><td>&hellip;</td><td>&hellip;</td><td>&hellip;</td><td>&hellip;</td><td>&hellip;</td><td>&hellip;</td></tr><tr><td>&quot;AGM00060686&quot;</td><td>1996-01-01 00:00:00 UTC</td><td>2004-12-31 00:00:00 UTC</td><td>21.333</td><td>0.95</td><td>399.0</td><td>&quot;BORDJ-BADJ-MOK…</td><td>null</td></tr><tr><td>&quot;AGM00060690&quot;</td><td>1992-01-01 00:00:00 UTC</td><td>2024-12-31 00:00:00 UTC</td><td>19.567</td><td>5.767</td><td>401.0</td><td>&quot;IN-GUEZZAM&quot;</td><td>null</td></tr><tr><td>&quot;AJ000037575&quot;</td><td>1936-01-01 00:00:00 UTC</td><td>2024-12-31 00:00:00 UTC</td><td>41.55</td><td>46.667</td><td>490.0</td><td>&quot;ZAKATALA&quot;</td><td>null</td></tr><tr><td>&quot;AJ000037579&quot;</td><td>1936-01-01 00:00:00 UTC</td><td>1987-12-31 00:00:00 UTC</td><td>41.7</td><td>46.8</td><td>1746.0</td><td>&quot;ALIBEK&quot;</td><td>null</td></tr><tr><td>&quot;AJ000037605&quot;</td><td>1977-01-01 00:00:00 UTC</td><td>1987-12-31 00:00:00 UTC</td><td>41.3</td><td>45.6</td><td>440.0</td><td>&quot;BOGDANOVKA&quot;</td><td>null</td></tr></tbody></table></div>"
      ],
      "text/plain": [
       "shape: (100, 8)\n",
       "┌─────────────┬──────────────┬──────────────┬──────────┬───────────┬────────┬──────────────┬───────┐\n",
       "│ station_id  ┆ start_date   ┆ end_date     ┆ latitude ┆ longitude ┆ height ┆ name         ┆ state │\n",
       "│ ---         ┆ ---          ┆ ---          ┆ ---      ┆ ---       ┆ ---    ┆ ---          ┆ ---   │\n",
       "│ str         ┆ datetime[μs, ┆ datetime[μs, ┆ f64      ┆ f64       ┆ f64    ┆ str          ┆ str   │\n",
       "│             ┆ UTC]         ┆ UTC]         ┆          ┆           ┆        ┆              ┆       │\n",
       "╞═════════════╪══════════════╪══════════════╪══════════╪═══════════╪════════╪══════════════╪═══════╡\n",
       "│ ACW00011604 ┆ 1949-01-01   ┆ 1949-12-31   ┆ 17.1167  ┆ -61.7833  ┆ 10.1   ┆ ST JOHNS     ┆ null  │\n",
       "│             ┆ 00:00:00 UTC ┆ 00:00:00 UTC ┆          ┆           ┆        ┆ COOLIDGE FLD ┆       │\n",
       "│ ACW00011647 ┆ 1957-01-01   ┆ 1970-12-31   ┆ 17.1333  ┆ -61.7833  ┆ 19.2   ┆ ST JOHNS     ┆ null  │\n",
       "│             ┆ 00:00:00 UTC ┆ 00:00:00 UTC ┆          ┆           ┆        ┆              ┆       │\n",
       "│ AE000041196 ┆ 1944-01-01   ┆ 2024-12-31   ┆ 25.333   ┆ 55.517    ┆ 34.0   ┆ SHARJAH      ┆ null  │\n",
       "│             ┆ 00:00:00 UTC ┆ 00:00:00 UTC ┆          ┆           ┆        ┆ INTER. AIRP  ┆       │\n",
       "│ AEM00041194 ┆ 1983-01-01   ┆ 2024-12-31   ┆ 25.255   ┆ 55.364    ┆ 10.4   ┆ DUBAI INTL   ┆ null  │\n",
       "│             ┆ 00:00:00 UTC ┆ 00:00:00 UTC ┆          ┆           ┆        ┆              ┆       │\n",
       "│ AEM00041217 ┆ 1983-01-01   ┆ 2024-12-31   ┆ 24.433   ┆ 54.651    ┆ 26.8   ┆ ABU DHABI    ┆ null  │\n",
       "│             ┆ 00:00:00 UTC ┆ 00:00:00 UTC ┆          ┆           ┆        ┆ INTL         ┆       │\n",
       "│ …           ┆ …            ┆ …            ┆ …        ┆ …         ┆ …      ┆ …            ┆ …     │\n",
       "│ AGM00060686 ┆ 1996-01-01   ┆ 2004-12-31   ┆ 21.333   ┆ 0.95      ┆ 399.0  ┆ BORDJ-BADJ-M ┆ null  │\n",
       "│             ┆ 00:00:00 UTC ┆ 00:00:00 UTC ┆          ┆           ┆        ┆ OKHTAR       ┆       │\n",
       "│ AGM00060690 ┆ 1992-01-01   ┆ 2024-12-31   ┆ 19.567   ┆ 5.767     ┆ 401.0  ┆ IN-GUEZZAM   ┆ null  │\n",
       "│             ┆ 00:00:00 UTC ┆ 00:00:00 UTC ┆          ┆           ┆        ┆              ┆       │\n",
       "│ AJ000037575 ┆ 1936-01-01   ┆ 2024-12-31   ┆ 41.55    ┆ 46.667    ┆ 490.0  ┆ ZAKATALA     ┆ null  │\n",
       "│             ┆ 00:00:00 UTC ┆ 00:00:00 UTC ┆          ┆           ┆        ┆              ┆       │\n",
       "│ AJ000037579 ┆ 1936-01-01   ┆ 1987-12-31   ┆ 41.7     ┆ 46.8      ┆ 1746.0 ┆ ALIBEK       ┆ null  │\n",
       "│             ┆ 00:00:00 UTC ┆ 00:00:00 UTC ┆          ┆           ┆        ┆              ┆       │\n",
       "│ AJ000037605 ┆ 1977-01-01   ┆ 1987-12-31   ┆ 41.3     ┆ 45.6      ┆ 440.0  ┆ BOGDANOVKA   ┆ null  │\n",
       "│             ┆ 00:00:00 UTC ┆ 00:00:00 UTC ┆          ┆           ┆        ┆              ┆       │\n",
       "└─────────────┴──────────────┴──────────────┴──────────┴───────────┴────────┴──────────────┴───────┘"
      ]
     },
     "execution_count": 16,
     "metadata": {},
     "output_type": "execute_result"
    }
   ],
   "source": [
    "stations = request.all().df\n",
    "stations.head(n=100)"
   ]
  },
  {
   "cell_type": "code",
   "execution_count": 19,
   "metadata": {},
   "outputs": [
    {
     "data": {
      "text/html": [
       "<div><style>\n",
       ".dataframe > thead > tr,\n",
       ".dataframe > tbody > tr {\n",
       "  text-align: right;\n",
       "  white-space: pre-wrap;\n",
       "}\n",
       "</style>\n",
       "<small>shape: (1, 8)</small><table border=\"1\" class=\"dataframe\"><thead><tr><th>station_id</th><th>start_date</th><th>end_date</th><th>latitude</th><th>longitude</th><th>height</th><th>name</th><th>state</th></tr><tr><td>str</td><td>datetime[μs, UTC]</td><td>datetime[μs, UTC]</td><td>f64</td><td>f64</td><td>f64</td><td>str</td><td>str</td></tr></thead><tbody><tr><td>&quot;USW00014739&quot;</td><td>1936-01-01 00:00:00 UTC</td><td>2024-12-31 00:00:00 UTC</td><td>42.3606</td><td>-71.0097</td><td>3.4</td><td>&quot;BOSTON&quot;</td><td>&quot;MA&quot;</td></tr></tbody></table></div>"
      ],
      "text/plain": [
       "shape: (1, 8)\n",
       "┌─────────────┬──────────────┬────────────────────┬──────────┬───────────┬────────┬────────┬───────┐\n",
       "│ station_id  ┆ start_date   ┆ end_date           ┆ latitude ┆ longitude ┆ height ┆ name   ┆ state │\n",
       "│ ---         ┆ ---          ┆ ---                ┆ ---      ┆ ---       ┆ ---    ┆ ---    ┆ ---   │\n",
       "│ str         ┆ datetime[μs, ┆ datetime[μs, UTC]  ┆ f64      ┆ f64       ┆ f64    ┆ str    ┆ str   │\n",
       "│             ┆ UTC]         ┆                    ┆          ┆           ┆        ┆        ┆       │\n",
       "╞═════════════╪══════════════╪════════════════════╪══════════╪═══════════╪════════╪════════╪═══════╡\n",
       "│ USW00014739 ┆ 1936-01-01   ┆ 2024-12-31         ┆ 42.3606  ┆ -71.0097  ┆ 3.4    ┆ BOSTON ┆ MA    │\n",
       "│             ┆ 00:00:00 UTC ┆ 00:00:00 UTC       ┆          ┆           ┆        ┆        ┆       │\n",
       "└─────────────┴──────────────┴────────────────────┴──────────┴───────────┴────────┴────────┴───────┘"
      ]
     },
     "execution_count": 19,
     "metadata": {},
     "output_type": "execute_result"
    }
   ],
   "source": [
    "boston_station_df = request.filter_by_station_id(\"USW00014739\").df\n",
    "boston_station_df.head(n=100)"
   ]
  },
  {
   "cell_type": "code",
   "execution_count": 20,
   "metadata": {},
   "outputs": [
    {
     "name": "stderr",
     "output_type": "stream",
     "text": [
      "sys:1: MapWithoutReturnDtypeWarning: Calling `map_elements` without specifying `return_dtype` can lead to unpredictable results. Specify `return_dtype` to silence this warning.\n"
     ]
    },
    {
     "name": "stdout",
     "output_type": "stream",
     "text": [
      "shape: (0, 6)\n",
      "┌────────────┬─────────┬───────────┬───────────────────┬───────┬─────────┐\n",
      "│ station_id ┆ dataset ┆ parameter ┆ date              ┆ value ┆ quality │\n",
      "│ ---        ┆ ---     ┆ ---       ┆ ---               ┆ ---   ┆ ---     │\n",
      "│ str        ┆ str     ┆ str       ┆ datetime[μs, UTC] ┆ f64   ┆ f64     │\n",
      "╞════════════╪═════════╪═══════════╪═══════════════════╪═══════╪═════════╡\n",
      "└────────────┴─────────┴───────────┴───────────────────┴───────┴─────────┘\n"
     ]
    }
   ],
   "source": [
    "boston_station = request.filter_by_station_id(\"USW00014739\")\n",
    "for result in boston_station.values.query():\n",
    "    print(result.df.drop_nulls().head())"
   ]
  }
 ],
 "metadata": {
  "kernelspec": {
   "display_name": "cs506",
   "language": "python",
   "name": "python3"
  },
  "language_info": {
   "codemirror_mode": {
    "name": "ipython",
    "version": 3
   },
   "file_extension": ".py",
   "mimetype": "text/x-python",
   "name": "python",
   "nbconvert_exporter": "python",
   "pygments_lexer": "ipython3",
   "version": "3.10.13"
  }
 },
 "nbformat": 4,
 "nbformat_minor": 2
}
