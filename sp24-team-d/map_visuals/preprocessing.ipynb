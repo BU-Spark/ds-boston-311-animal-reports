{
 "cells": [
  {
   "cell_type": "markdown",
   "metadata": {},
   "source": [
    "# Preprocessing"
   ]
  },
  {
   "cell_type": "code",
   "execution_count": null,
   "metadata": {},
   "outputs": [],
   "source": [
    "# pad the zipcode with leading zeros\n",
    "df['location_zipcode'] = df['location_zipcode'].fillna(0)\n",
    "df['location_zipcode'] = df['location_zipcode'].astype(int).astype(str)\n",
    "df['location_zipcode'] = df['location_zipcode'].apply(lambda x: x.zfill(5))\n",
    "\n",
    "# Fill in the missing zipcodes by longitude and latitude\n",
    "def find_zipcode_if_missing(row):\n",
    "    # Check if the zipcode is already present (not empty or NaN)\n",
    "    if row['location_zipcode'] == \"00000\":\n",
    "        lat, lon = row['latitude'], row['longitude']\n",
    "        point = Point(lon, lat)\n",
    "        for feature in geojson['features']:\n",
    "            polygon = shape(feature['geometry'])\n",
    "            if polygon.contains(point):\n",
    "                return feature['properties']['ZIP5']\n",
    "    # Return the original zipcode if it's already there, or NaN if not found\n",
    "    return row['location_zipcode']\n",
    "\n",
    "# Apply the modified function to each row\n",
    "df['location_zipcode'] = df.apply(find_zipcode_if_missing, axis=1)\n",
    "# save the csv back to the file\n",
    "df.to_csv('../Datasets/animal_cases.csv', index=False)\n",
    "with pd.option_context('display.max_columns', None, 'display.width', None):\n",
    "\n",
    "    print(df[df['location_zipcode'] == \"00000\"])\n",
    "df['location_zipcode'].value_counts()"
   ]
  },
  {
   "cell_type": "markdown",
   "metadata": {},
   "source": [
    "## Combine the animal columns"
   ]
  },
  {
   "cell_type": "code",
   "execution_count": null,
   "metadata": {},
   "outputs": [],
   "source": [
    "animal_df = pd.read_csv('../Datasets/req_with_animals.csv')\n",
    "df['animal']=animal_df['animal']\n",
    "# save the csv back to the file\n",
    "df.to_csv('../Datasets/animal_cases.csv', index=False)"
   ]
  },
  {
   "cell_type": "markdown",
   "metadata": {},
   "source": [
    "# Geojson Processing"
   ]
  },
  {
   "cell_type": "code",
   "execution_count": null,
   "metadata": {},
   "outputs": [],
   "source": [
    "import json\n",
    "\n",
    "def print_structure(obj, indent=0):\n",
    "    \"\"\"Recursive function to print the structure of a JSON object.\"\"\"\n",
    "    # Determine the type of the `obj` parameter\n",
    "    if isinstance(obj, dict):\n",
    "        for key, value in obj.items():\n",
    "            # Print the current key with indentation\n",
    "            print('  ' * indent + str(key))\n",
    "            # Recursively print the structure of the value\n",
    "            print_structure(value, indent + 1)\n",
    "    elif isinstance(obj, list):\n",
    "        # Print the indication of a list and its size\n",
    "        print('  ' * indent + f'List - {len(obj)} items')\n",
    "        # Optionally, handle lists: you can choose to print the structure of the first item, all items, or none\n",
    "        if len(obj) > 0:\n",
    "            # Example: print the structure of the first item\n",
    "            print_structure(obj[0], indent + 1)\n",
    "    else:\n",
    "        # Print the type of the primitive\n",
    "        print('  ' * indent + f'Value type: {type(obj).__name__}')\n",
    "\n",
    "# Load your JSON file\n",
    "filename = '../Datasets/USA_ZIP_Code_Boundaries.geojson'\n",
    "with open(filename, 'r') as file:\n",
    "    data = json.load(file)\n",
    "\n",
    "# Print the structure of the loaded JSON data\n",
    "print(\"JSON Structure:\")\n",
    "print_structure(data)\n"
   ]
  },
  {
   "cell_type": "code",
   "execution_count": null,
   "metadata": {},
   "outputs": [],
   "source": [
    "import json\n",
    "\n",
    "def extract_zipcode_data(json_data, selected_zipcodes):\n",
    "    \"\"\"Extract data for specified zip codes from JSON data.\"\"\"\n",
    "    # Filter features by selected zip codes\n",
    "    filtered_features = [\n",
    "        feature for feature in json_data['features']\n",
    "        if feature['properties']['ZIP_CODE'] in selected_zipcodes\n",
    "    ]\n",
    "    \n",
    "    # Return a new JSON-like structure with filtered features\n",
    "    return {\n",
    "        \"type\": json_data['type'],\n",
    "        \"name\": json_data['name'],\n",
    "        \"crs\": json_data['crs'],\n",
    "        \"features\": filtered_features\n",
    "    }\n",
    "\n",
    "# Load your JSON file\n",
    "filename = '../Datasets/USA_ZIP_Code_Boundaries.geojson'\n",
    "with open(filename, 'r') as file:\n",
    "    data = json.load(file)\n",
    "\n",
    "# List of zip codes you are interested in\n",
    "selected_zipcodes = [\"02108\", \"02109\", \"02110\", \"02111\", \"02113\", \"02114\", \"02115\", \"02116\", \"02118\", \"02119\", \"02120\", \"02121\", \"02122\", \"02124\", \"02125\", \"02126\", \"02127\", \"02128\", \"02129\", \"02130\", \"02131\", \"02132\", \"02133\", \"02134\", \"02135\", \"02136\", \"02151\", \"02163\", \"02199\", \"02201\", \"02203\", \"02210\", \"02215\", \"02446\", \"02467\"]\n",
    "\n",
    "# Extract the data for selected zip codes\n",
    "filtered_data = extract_zipcode_data(data, selected_zipcodes)\n",
    "\n",
    "# Optionally, save the filtered data to a new JSON file\n",
    "filtered_filename = '../Datasets/boston_zipcodes.geojson'\n",
    "with open(filtered_filename, 'w') as outfile:\n",
    "    json.dump(filtered_data, outfile, indent=2)\n",
    "\n",
    "# If you need to directly work with filtered_data in Python, you can do so as well\n"
   ]
  }
 ],
 "metadata": {
  "language_info": {
   "name": "python"
  }
 },
 "nbformat": 4,
 "nbformat_minor": 2
}
