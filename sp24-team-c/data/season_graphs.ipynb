{
 "cells": [
  {
   "cell_type": "code",
   "execution_count": 7,
   "metadata": {},
   "outputs": [
    {
     "name": "stdout",
     "output_type": "stream",
     "text": [
      "['_id', 'case_enquiry_id', 'open_dt', 'sla_target_dt', 'closed_dt', 'on_time', 'case_status', 'closure_reason', 'case_title', 'subject', 'reason', 'type', 'queue', 'department', 'submitted_photo', 'closed_photo', 'location', 'fire_district', 'pwd_district', 'city_council_district', 'police_district', 'neighborhood', 'neighborhood_services_district', 'ward', 'precinct', 'location_street_name', 'location_zipcode', 'latitude', 'longitude', 'geom_4326', 'source']\n"
     ]
    },
    {
     "data": {
      "text/html": [
       "<div>\n",
       "<style scoped>\n",
       "    .dataframe tbody tr th:only-of-type {\n",
       "        vertical-align: middle;\n",
       "    }\n",
       "\n",
       "    .dataframe tbody tr th {\n",
       "        vertical-align: top;\n",
       "    }\n",
       "\n",
       "    .dataframe thead th {\n",
       "        text-align: right;\n",
       "    }\n",
       "</style>\n",
       "<table border=\"1\" class=\"dataframe\">\n",
       "  <thead>\n",
       "    <tr style=\"text-align: right;\">\n",
       "      <th></th>\n",
       "      <th>_id</th>\n",
       "      <th>case_enquiry_id</th>\n",
       "      <th>open_dt</th>\n",
       "      <th>sla_target_dt</th>\n",
       "      <th>closed_dt</th>\n",
       "      <th>on_time</th>\n",
       "      <th>case_status</th>\n",
       "      <th>closure_reason</th>\n",
       "      <th>case_title</th>\n",
       "      <th>subject</th>\n",
       "      <th>...</th>\n",
       "      <th>neighborhood</th>\n",
       "      <th>neighborhood_services_district</th>\n",
       "      <th>ward</th>\n",
       "      <th>precinct</th>\n",
       "      <th>location_street_name</th>\n",
       "      <th>location_zipcode</th>\n",
       "      <th>latitude</th>\n",
       "      <th>longitude</th>\n",
       "      <th>geom_4326</th>\n",
       "      <th>source</th>\n",
       "    </tr>\n",
       "  </thead>\n",
       "  <tbody>\n",
       "    <tr>\n",
       "      <th>0</th>\n",
       "      <td>9</td>\n",
       "      <td>101000295622</td>\n",
       "      <td>2011-07-01 02:44:50</td>\n",
       "      <td>2011-07-04 02:44:49</td>\n",
       "      <td>2011-07-01 02:44:55</td>\n",
       "      <td>ONTIME</td>\n",
       "      <td>Closed</td>\n",
       "      <td>Case Closed Internal Case</td>\n",
       "      <td>Pick up Dead Animal</td>\n",
       "      <td>Public Works Department</td>\n",
       "      <td>...</td>\n",
       "      <td>Dorchester</td>\n",
       "      <td>7</td>\n",
       "      <td>Ward 16</td>\n",
       "      <td>1602</td>\n",
       "      <td>305 Freeport St</td>\n",
       "      <td>2122.0</td>\n",
       "      <td>42.30202</td>\n",
       "      <td>-71.051911</td>\n",
       "      <td>0101000020E6100000AC4EA98052C351C098735293A826...</td>\n",
       "      <td>Employee Generated</td>\n",
       "    </tr>\n",
       "  </tbody>\n",
       "</table>\n",
       "<p>1 rows × 31 columns</p>\n",
       "</div>"
      ],
      "text/plain": [
       "   _id  case_enquiry_id              open_dt        sla_target_dt  \\\n",
       "0    9     101000295622  2011-07-01 02:44:50  2011-07-04 02:44:49   \n",
       "\n",
       "             closed_dt on_time case_status              closure_reason  \\\n",
       "0  2011-07-01 02:44:55  ONTIME      Closed  Case Closed Internal Case    \n",
       "\n",
       "            case_title                  subject  ... neighborhood  \\\n",
       "0  Pick up Dead Animal  Public Works Department  ...   Dorchester   \n",
       "\n",
       "  neighborhood_services_district     ward precinct location_street_name  \\\n",
       "0                              7  Ward 16     1602      305 Freeport St   \n",
       "\n",
       "  location_zipcode  latitude  longitude  \\\n",
       "0           2122.0  42.30202 -71.051911   \n",
       "\n",
       "                                           geom_4326              source  \n",
       "0  0101000020E6100000AC4EA98052C351C098735293A826...  Employee Generated  \n",
       "\n",
       "[1 rows x 31 columns]"
      ]
     },
     "execution_count": 7,
     "metadata": {},
     "output_type": "execute_result"
    }
   ],
   "source": [
    "import pandas as pd\n",
    "\n",
    "# Replace 'your_file.csv' with the actual file path or URL\n",
    "file_path = '/Users/samdvorin/Desktop/code/506/ds-boston-311-animal-reports/sp24-team-c/data/animal_related_complaints_2011_2024.csv'\n",
    "\n",
    "# Read the CSV file into a DataFrame\n",
    "df = pd.read_csv(file_path, low_memory=False)\n",
    "\n",
    "# Now 'df' contains your data as a pandas DataFrame\n",
    "\n",
    "column_names_list = df.columns.tolist()\n",
    "print(column_names_list)\n",
    "df.head(1)"
   ]
  },
  {
   "cell_type": "code",
   "execution_count": null,
   "metadata": {},
   "outputs": [],
   "source": [
    "# for each graph pull the spec. rows u need and then make the graph"
   ]
  }
 ],
 "metadata": {
  "kernelspec": {
   "display_name": "Python 3.9.13 ('base')",
   "language": "python",
   "name": "python3"
  },
  "language_info": {
   "codemirror_mode": {
    "name": "ipython",
    "version": 3
   },
   "file_extension": ".py",
   "mimetype": "text/x-python",
   "name": "python",
   "nbconvert_exporter": "python",
   "pygments_lexer": "ipython3",
   "version": "3.9.13"
  },
  "orig_nbformat": 4,
  "vscode": {
   "interpreter": {
    "hash": "8433822212b79f5d8b3452ec504986410bf31415c55c9cbd3d55cd029f0ca8d9"
   }
  }
 },
 "nbformat": 4,
 "nbformat_minor": 2
}
